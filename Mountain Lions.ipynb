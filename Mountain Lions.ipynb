{
 "cells": [
  {
   "cell_type": "code",
   "execution_count": 1,
   "metadata": {
    "collapsed": true
   },
   "outputs": [],
   "source": [
    "import agate"
   ]
  },
  {
   "cell_type": "code",
   "execution_count": 6,
   "metadata": {
    "collapsed": false
   },
   "outputs": [
    {
     "name": "stdout",
     "output_type": "stream",
     "text": [
      "|---------------+---------------|\n",
      "|  column_names | column_types  |\n",
      "|---------------+---------------|\n",
      "|  ID           | Number        |\n",
      "|  Cofirm Type  | Text          |\n",
      "|  COUNTY       | Text          |\n",
      "|  Date         | Date          |\n",
      "|---------------+---------------|\n",
      "\n"
     ]
    }
   ],
   "source": [
    "mountainlions = agate.Table.from_csv('Downloads/mountainlions.csv')\n",
    "print(mountainlions)"
   ]
  },
  {
   "cell_type": "code",
   "execution_count": 7,
   "metadata": {
    "collapsed": true
   },
   "outputs": [],
   "source": [
    "by_county = mountainlions.group_by('COUNTY')"
   ]
  },
  {
   "cell_type": "code",
   "execution_count": 8,
   "metadata": {
    "collapsed": false
   },
   "outputs": [
    {
     "name": "stdout",
     "output_type": "stream",
     "text": [
      "42\n"
     ]
    }
   ],
   "source": [
    "print(len(by_county))"
   ]
  },
  {
   "cell_type": "code",
   "execution_count": 9,
   "metadata": {
    "collapsed": true
   },
   "outputs": [],
   "source": [
    "county_totals = by_county.aggregate([('count', agate.Length())])\n",
    "#To make something out of a group_by TableSet, we have to run some aggregates on it."
   ]
  },
  {
   "cell_type": "code",
   "execution_count": 10,
   "metadata": {
    "collapsed": false
   },
   "outputs": [
    {
     "name": "stdout",
     "output_type": "stream",
     "text": [
      "|---------------+--------|\n",
      "|  COUNTY       | count  |\n",
      "|---------------+--------|\n",
      "|  Dawes        |   111  |\n",
      "|  Sioux        |    52  |\n",
      "|  Scotts Bluff |    26  |\n",
      "|  Box Butte    |     4  |\n",
      "|  Howard       |     3  |\n",
      "|  Brown        |    15  |\n",
      "|  Douglas      |     2  |\n",
      "|  Cherry       |    30  |\n",
      "|  Thomas       |     5  |\n",
      "|  Keya Paha    |    20  |\n",
      "|  Dakota       |     3  |\n",
      "|  Sarpy        |     1  |\n",
      "|  Custer       |     8  |\n",
      "|  Sheridan     |    35  |\n",
      "|  Banner       |     6  |\n",
      "|  Knox         |     8  |\n",
      "|  Nance        |     1  |\n",
      "|  Platte       |     1  |\n",
      "|  Dawson       |     5  |\n",
      "|  Rock         |    11  |\n",
      "|  Hooker       |     1  |\n",
      "|  Lincoln      |    10  |\n",
      "|  Polk         |     1  |\n",
      "|  Valley       |     1  |\n",
      "|  Sherman      |     1  |\n",
      "|  Blaine       |     3  |\n",
      "|  Saunders     |     2  |\n",
      "|  Buffalo      |     3  |\n",
      "|  sheridan     |     2  |\n",
      "|  Thurston     |     1  |\n",
      "|  Dixon        |     3  |\n",
      "|  Holt         |     2  |\n",
      "|  Kimball      |     1  |\n",
      "|  Morrill      |     2  |\n",
      "|  Cedar        |     1  |\n",
      "|  Keith        |     1  |\n",
      "|  Merrick      |     1  |\n",
      "|  Hall         |     1  |\n",
      "|  Wheeler      |     1  |\n",
      "|  Richardson   |     2  |\n",
      "|  Nemaha       |     5  |\n",
      "|  Frontier     |     1  |\n",
      "|---------------+--------|\n"
     ]
    }
   ],
   "source": [
    "county_totals.print_table()"
   ]
  },
  {
   "cell_type": "code",
   "execution_count": null,
   "metadata": {
    "collapsed": true
   },
   "outputs": [],
   "source": [
    "#Now sort it -->"
   ]
  },
  {
   "cell_type": "code",
   "execution_count": 11,
   "metadata": {
    "collapsed": false
   },
   "outputs": [
    {
     "name": "stdout",
     "output_type": "stream",
     "text": [
      "|---------------+--------|\n",
      "|  COUNTY       | count  |\n",
      "|---------------+--------|\n",
      "|  Dawes        |   111  |\n",
      "|  Sioux        |    52  |\n",
      "|  Sheridan     |    35  |\n",
      "|  Cherry       |    30  |\n",
      "|  Scotts Bluff |    26  |\n",
      "|  Keya Paha    |    20  |\n",
      "|  Brown        |    15  |\n",
      "|  Rock         |    11  |\n",
      "|  Lincoln      |    10  |\n",
      "|  Custer       |     8  |\n",
      "|  Knox         |     8  |\n",
      "|  Banner       |     6  |\n",
      "|  Thomas       |     5  |\n",
      "|  Dawson       |     5  |\n",
      "|  Nemaha       |     5  |\n",
      "|  Box Butte    |     4  |\n",
      "|  Howard       |     3  |\n",
      "|  Dakota       |     3  |\n",
      "|  Blaine       |     3  |\n",
      "|  Buffalo      |     3  |\n",
      "|  Dixon        |     3  |\n",
      "|  Douglas      |     2  |\n",
      "|  Saunders     |     2  |\n",
      "|  sheridan     |     2  |\n",
      "|  Holt         |     2  |\n",
      "|  Morrill      |     2  |\n",
      "|  Richardson   |     2  |\n",
      "|  Sarpy        |     1  |\n",
      "|  Nance        |     1  |\n",
      "|  Platte       |     1  |\n",
      "|  Hooker       |     1  |\n",
      "|  Polk         |     1  |\n",
      "|  Valley       |     1  |\n",
      "|  Sherman      |     1  |\n",
      "|  Thurston     |     1  |\n",
      "|  Kimball      |     1  |\n",
      "|  Cedar        |     1  |\n",
      "|  Keith        |     1  |\n",
      "|  Merrick      |     1  |\n",
      "|  Hall         |     1  |\n",
      "|  Wheeler      |     1  |\n",
      "|  Frontier     |     1  |\n",
      "|---------------+--------|\n"
     ]
    }
   ],
   "source": [
    "sorted_counties = county_totals.order_by('count', reverse=True)\n",
    "sorted_counties.print_table()"
   ]
  },
  {
   "cell_type": "code",
   "execution_count": 12,
   "metadata": {
    "collapsed": false
   },
   "outputs": [
    {
     "name": "stdout",
     "output_type": "stream",
     "text": [
      "|---------------+--------|\n",
      "|  COUNTY       | count  |\n",
      "|---------------+--------|\n",
      "|  Dawes        |   111  |\n",
      "|  Sioux        |    52  |\n",
      "|  Sheridan     |    35  |\n",
      "|  Cherry       |    30  |\n",
      "|  Scotts Bluff |    26  |\n",
      "|  Keya Paha    |    20  |\n",
      "|  Brown        |    15  |\n",
      "|  Rock         |    11  |\n",
      "|  Lincoln      |    10  |\n",
      "|  Custer       |     8  |\n",
      "|  Knox         |     8  |\n",
      "|  Banner       |     6  |\n",
      "|  Thomas       |     5  |\n",
      "|  Dawson       |     5  |\n",
      "|  Nemaha       |     5  |\n",
      "|  Box Butte    |     4  |\n",
      "|  Howard       |     3  |\n",
      "|  Dakota       |     3  |\n",
      "|  Blaine       |     3  |\n",
      "|  Buffalo      |     3  |\n",
      "|  Dixon        |     3  |\n",
      "|  Douglas      |     2  |\n",
      "|  Saunders     |     2  |\n",
      "|  sheridan     |     2  |\n",
      "|  Holt         |     2  |\n",
      "|  ...          |   ...  |\n",
      "|---------------+--------|\n"
     ]
    }
   ],
   "source": [
    "#to limit the number of rows that you print, insert max_rows=n at the end of the print_table function.\n",
    "sorted_counties.print_table(max_rows=25)\n"
   ]
  },
  {
   "cell_type": "code",
   "execution_count": null,
   "metadata": {
    "collapsed": true
   },
   "outputs": [],
   "source": []
  }
 ],
 "metadata": {
  "kernelspec": {
   "display_name": "Python 3",
   "language": "python",
   "name": "python3"
  },
  "language_info": {
   "codemirror_mode": {
    "name": "ipython",
    "version": 3
   },
   "file_extension": ".py",
   "mimetype": "text/x-python",
   "name": "python",
   "nbconvert_exporter": "python",
   "pygments_lexer": "ipython3",
   "version": "3.5.2"
  }
 },
 "nbformat": 4,
 "nbformat_minor": 0
}
