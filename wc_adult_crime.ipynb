{
 "cells": [
  {
   "cell_type": "code",
   "execution_count": 1,
   "metadata": {
    "collapsed": true
   },
   "outputs": [],
   "source": [
    "import agate"
   ]
  },
  {
   "cell_type": "code",
   "execution_count": 2,
   "metadata": {
    "collapsed": false,
    "scrolled": false
   },
   "outputs": [],
   "source": [
    "wc_adult_crime = agate.Table.from_csv('Downloads/05thru15crime.csv')"
   ]
  },
  {
   "cell_type": "code",
   "execution_count": 3,
   "metadata": {
    "collapsed": false
   },
   "outputs": [
    {
     "name": "stdout",
     "output_type": "stream",
     "text": [
      "|-----------------------+------------|\n",
      "|  column               | data_type  |\n",
      "|-----------------------+------------|\n",
      "|  CRIME                | Text       |\n",
      "|  PR                   | Number     |\n",
      "|  WAK                  | Number     |\n",
      "|  OG                   | Number     |\n",
      "|  WK MAN               | Number     |\n",
      "|  POR                  | Number     |\n",
      "|  MR                   | Number     |\n",
      "|  PC                   | Number     |\n",
      "|  LAC                  | Number     |\n",
      "|  EN                   | Number     |\n",
      "|  MR DET               | Number     |\n",
      "|  PR DET               | Number     |\n",
      "|  SR                   | Number     |\n",
      "|  HQ                   | Number     |\n",
      "|  DTF                  | Number     |\n",
      "|  TOTAL                | Number     |\n",
      "|  CRIME TYPE           | Text       |\n",
      "|  YEAR                 | Number     |\n",
      "|  ALCOHOL/DRUG RELATED | Boolean    |\n",
      "|-----------------------+------------|\n",
      "\n"
     ]
    }
   ],
   "source": [
    "print(wc_adult_crime)"
   ]
  },
  {
   "cell_type": "code",
   "execution_count": 4,
   "metadata": {
    "collapsed": false
   },
   "outputs": [],
   "source": [
    "with_alc = wc_adult_crime.where(lambda row: row['ALCOHOL/DRUG RELATED'] == True)"
   ]
  },
  {
   "cell_type": "code",
   "execution_count": 5,
   "metadata": {
    "collapsed": false,
    "scrolled": false
   },
   "outputs": [
    {
     "name": "stdout",
     "output_type": "stream",
     "text": [
      "|-----------------------+-------+-------+-------+--------+-------+------|\n",
      "|  CRIME                |    PR |   WAK |    OG | WK MAN |   POR | ...  |\n",
      "|-----------------------+-------+-------+-------+--------+-------+------|\n",
      "|  Contributing to a... |    59 |    13 |    14 |      9 |    16 | ...  |\n",
      "|  Drug Laws-possession |    50 |    15 |     7 |     10 |    11 | ...  |\n",
      "|  Drug Laws-sell or... |     4 |     0 |     0 |      0 |     1 | ...  |\n",
      "|  Intoxication (Alc... |   844 |   266 |   230 |    341 |   241 | ...  |\n",
      "|  Liquor Sale/Trade... |     2 |     0 |     0 |      0 |     0 | ...  |\n",
      "|  Liquor Violation     |    22 |    12 |    11 |      9 |    17 | ...  |\n",
      "|  Alcohol/Drug Rela... |     0 |     3 |     0 |      1 |     0 | ...  |\n",
      "|  Alcohol/Drug Rela... |     4 |     4 |     2 |      5 |     4 | ...  |\n",
      "|  Alcohol/Drug Rela... |     6 |     2 |     2 |      1 |     1 | ...  |\n",
      "|  Alcohol/Drug Rela... |     0 |     0 |     1 |      0 |     0 | ...  |\n",
      "|  Driving while Int... |    89 |    41 |    25 |     16 |    12 | ...  |\n",
      "|  Driving Under the... |    57 |    25 |    10 |     14 |     7 | ...  |\n",
      "|  Contributing to a... |    24 |    52 |    14 |      5 |    65 | ...  |\n",
      "|  Drug Laws-possession |    24 |    15 |     5 |      4 |     8 | ...  |\n",
      "|  Drug Laws-sell or... |     4 |     0 |     0 |      0 |     0 | ...  |\n",
      "|  Intoxication (Alc... |    63 |    37 |    42 |     10 |    20 | ...  |\n",
      "|  Liquor Sale/Trade... |     3 |     0 |     9 |      5 |     0 | ...  |\n",
      "|  Liquor Violation     | 2,206 | 1,148 | 1,060 |  1,143 | 1,071 | ...  |\n",
      "|  Alcohol/Drug Rela... |     0 |     3 |     0 |      1 |     2 | ...  |\n",
      "|  Alcohol/Drug Rela... |     3 |     6 |     1 |      4 |     0 | ...  |\n",
      "|  Alcohol/Drug Rela... |     2 |     8 |     1 |      4 |     0 | ...  |\n",
      "|  Alcohol/Drug Rela... |     1 |     1 |     0 |      0 |     1 | ...  |\n",
      "|  Driving While Int... |    45 |    59 |    26 |     34 |    25 | ...  |\n",
      "|  Driving Under the... |    24 |    21 |     1 |     14 |    19 | ...  |\n",
      "|  Contributing to a... |    30 |    11 |     5 |     11 |     8 | ...  |\n",
      "|  Drug Laws-possession |    28 |    24 |    11 |     22 |    34 | ...  |\n",
      "|  Drug Laws-sell or... |     5 |     0 |     2 |      0 |     1 | ...  |\n",
      "|  Intoxication (Alc... | 1,503 |   912 |   916 |    711 | 1,214 | ...  |\n",
      "|  Liquor Sale/Trade... |     0 |     0 |     0 |      0 |     0 | ...  |\n",
      "|  Liquor Violation     | 1,587 |   963 |   975 |    702 | 1,092 | ...  |\n",
      "|  Alcohol/Drug Rela... |     0 |     1 |     0 |      0 |     0 | ...  |\n",
      "|  Alcohol/Drug Rela... |     5 |     1 |     1 |      0 |     2 | ...  |\n",
      "|  Alcohol/Drug Rela... |     2 |     1 |     4 |      3 |     3 | ...  |\n",
      "|  Alcohol/Drug Rela... |     4 |     0 |     0 |      0 |     0 | ...  |\n",
      "|  Driving While Int... |   129 |   129 |    98 |     51 |    63 | ...  |\n",
      "|  Driving Under the... |    13 |    22 |    19 |      9 |    30 | ...  |\n",
      "|-----------------------+-------+-------+-------+--------+-------+------|\n"
     ]
    }
   ],
   "source": [
    "with_alc.print_table(max_rows=50)"
   ]
  },
  {
   "cell_type": "code",
   "execution_count": 6,
   "metadata": {
    "collapsed": false
   },
   "outputs": [],
   "source": [
    "for_total = with_alc.select(['YEAR', 'CRIME', 'TOTAL'])"
   ]
  },
  {
   "cell_type": "code",
   "execution_count": 7,
   "metadata": {
    "collapsed": false
   },
   "outputs": [
    {
     "name": "stdout",
     "output_type": "stream",
     "text": [
      "|--------+----------------------+---------|\n",
      "|   YEAR | CRIME                |  TOTAL  |\n",
      "|--------+----------------------+---------|\n",
      "|  2,005 | Contributing to a... |    134  |\n",
      "|  2,005 | Drug Laws-possession |    132  |\n",
      "|  2,005 | Drug Laws-sell or... |     12  |\n",
      "|  2,005 | Intoxication (Alc... |  2,554  |\n",
      "|  2,005 | Liquor Sale/Trade... |      8  |\n",
      "|  2,005 | Liquor Violation     |    141  |\n",
      "|  2,005 | Alcohol/Drug Rela... |         |\n",
      "|  2,005 | Alcohol/Drug Rela... |     23  |\n",
      "|  2,005 | Alcohol/Drug Rela... |     14  |\n",
      "|  2,005 | Alcohol/Drug Rela... |      1  |\n",
      "|  2,005 | Driving while Int... |    217  |\n",
      "|  2,005 | Driving Under the... |    129  |\n",
      "|  2,010 | Contributing to a... |    220  |\n",
      "|  2,010 | Drug Laws-possession |    104  |\n",
      "|  2,010 | Drug Laws-sell or... |      9  |\n",
      "|  2,010 | Intoxication (Alc... |    247  |\n",
      "|  2,010 | Liquor Sale/Trade... |     25  |\n",
      "|  2,010 | Liquor Violation     | 10,435  |\n",
      "|  2,010 | Alcohol/Drug Rela... |     10  |\n",
      "|  2,010 | Alcohol/Drug Rela... |     26  |\n",
      "|    ... | ...                  |    ...  |\n",
      "|--------+----------------------+---------|\n"
     ]
    }
   ],
   "source": [
    "for_total.print_table()"
   ]
  },
  {
   "cell_type": "code",
   "execution_count": 8,
   "metadata": {
    "collapsed": true
   },
   "outputs": [],
   "source": [
    "sorted_alc = for_total.order_by('YEAR')"
   ]
  },
  {
   "cell_type": "code",
   "execution_count": 9,
   "metadata": {
    "collapsed": false,
    "scrolled": false
   },
   "outputs": [
    {
     "name": "stdout",
     "output_type": "stream",
     "text": [
      "|--------+----------------------+---------|\n",
      "|   YEAR | CRIME                |  TOTAL  |\n",
      "|--------+----------------------+---------|\n",
      "|  2,005 | Contributing to a... |    134  |\n",
      "|  2,005 | Drug Laws-possession |    132  |\n",
      "|  2,005 | Drug Laws-sell or... |     12  |\n",
      "|  2,005 | Intoxication (Alc... |  2,554  |\n",
      "|  2,005 | Liquor Sale/Trade... |      8  |\n",
      "|  2,005 | Liquor Violation     |    141  |\n",
      "|  2,005 | Alcohol/Drug Rela... |         |\n",
      "|  2,005 | Alcohol/Drug Rela... |     23  |\n",
      "|  2,005 | Alcohol/Drug Rela... |     14  |\n",
      "|  2,005 | Alcohol/Drug Rela... |      1  |\n",
      "|  2,005 | Driving while Int... |    217  |\n",
      "|  2,005 | Driving Under the... |    129  |\n",
      "|  2,010 | Contributing to a... |    220  |\n",
      "|  2,010 | Drug Laws-possession |    104  |\n",
      "|  2,010 | Drug Laws-sell or... |      9  |\n",
      "|  2,010 | Intoxication (Alc... |    247  |\n",
      "|  2,010 | Liquor Sale/Trade... |     25  |\n",
      "|  2,010 | Liquor Violation     | 10,435  |\n",
      "|  2,010 | Alcohol/Drug Rela... |     10  |\n",
      "|  2,010 | Alcohol/Drug Rela... |     26  |\n",
      "|    ... | ...                  |    ...  |\n",
      "|--------+----------------------+---------|\n"
     ]
    }
   ],
   "source": [
    "sorted_alc.print_table()"
   ]
  },
  {
   "cell_type": "code",
   "execution_count": 10,
   "metadata": {
    "collapsed": true
   },
   "outputs": [],
   "source": [
    "sorted_alc.to_csv('Downloads/alc_crime.csv')"
   ]
  },
  {
   "cell_type": "code",
   "execution_count": 11,
   "metadata": {
    "collapsed": false,
    "scrolled": true
   },
   "outputs": [],
   "source": [
    "new_alc = agate.Table.from_csv('Downloads/alc_crime.csv')"
   ]
  },
  {
   "cell_type": "code",
   "execution_count": 12,
   "metadata": {
    "collapsed": false
   },
   "outputs": [
    {
     "name": "stdout",
     "output_type": "stream",
     "text": [
      "|--------+----------------------+---------|\n",
      "|   YEAR | CRIME                |  TOTAL  |\n",
      "|--------+----------------------+---------|\n",
      "|  2,005 | Contributing to a... |    134  |\n",
      "|  2,005 | Drug Laws-possession |    132  |\n",
      "|  2,005 | Drug Laws-sell or... |     12  |\n",
      "|  2,005 | Intoxication (Alc... |  2,554  |\n",
      "|  2,005 | Liquor Sale/Trade... |      8  |\n",
      "|  2,005 | Liquor Violation     |    141  |\n",
      "|  2,005 | Alcohol/Drug Rela... |         |\n",
      "|  2,005 | Alcohol/Drug Rela... |     23  |\n",
      "|  2,005 | Alcohol/Drug Rela... |     14  |\n",
      "|  2,005 | Alcohol/Drug Rela... |      1  |\n",
      "|  2,005 | Driving while Int... |    217  |\n",
      "|  2,005 | Driving Under the... |    129  |\n",
      "|  2,010 | Contributing to a... |    220  |\n",
      "|  2,010 | Drug Laws-possession |    104  |\n",
      "|  2,010 | Drug Laws-sell or... |      9  |\n",
      "|  2,010 | Intoxication (Alc... |    247  |\n",
      "|  2,010 | Liquor Sale/Trade... |     25  |\n",
      "|  2,010 | Liquor Violation     | 10,435  |\n",
      "|  2,010 | Alcohol/Drug Rela... |     10  |\n",
      "|  2,010 | Alcohol/Drug Rela... |     26  |\n",
      "|  2,010 | Alcohol/Drug Rela... |     21  |\n",
      "|  2,010 | Alcohol/Drug Rela... |      4  |\n",
      "|  2,010 | Driving While Int... |    319  |\n",
      "|  2,010 | Driving Under the... |    172  |\n",
      "|  2,015 | Contributing to a... |     86  |\n",
      "|  2,015 | Drug Laws-possession |    196  |\n",
      "|  2,015 | Drug Laws-sell or... |     18  |\n",
      "|  2,015 | Intoxication (Alc... |  7,093  |\n",
      "|  2,015 | Liquor Sale/Trade... |      7  |\n",
      "|  2,015 | Liquor Violation     |  7,132  |\n",
      "|  2,015 | Alcohol/Drug Rela... |      2  |\n",
      "|  2,015 | Alcohol/Drug Rela... |     15  |\n",
      "|  2,015 | Alcohol/Drug Rela... |     19  |\n",
      "|  2,015 | Alcohol/Drug Rela... |      5  |\n",
      "|  2,015 | Driving While Int... |    651  |\n",
      "|  2,015 | Driving Under the... |    136  |\n",
      "|--------+----------------------+---------|\n"
     ]
    }
   ],
   "source": [
    "new_alc.print_table(max_rows=100, max_columns=25)"
   ]
  },
  {
   "cell_type": "code",
   "execution_count": 13,
   "metadata": {
    "collapsed": false,
    "scrolled": true
   },
   "outputs": [],
   "source": [
    "import pandas as pd\n",
    "from ggplot import *\n",
    "%matplotlib inline"
   ]
  },
  {
   "cell_type": "code",
   "execution_count": 16,
   "metadata": {
    "collapsed": true
   },
   "outputs": [],
   "source": [
    "df = pd.read_csv('Downloads/new_alc.csv')"
   ]
  },
  {
   "cell_type": "code",
   "execution_count": 17,
   "metadata": {
    "collapsed": false
   },
   "outputs": [
    {
     "data": {
      "text/html": [
       "<div>\n",
       "<table border=\"1\" class=\"dataframe\">\n",
       "  <thead>\n",
       "    <tr style=\"text-align: right;\">\n",
       "      <th></th>\n",
       "      <th>Year</th>\n",
       "      <th>Contributing to a Minor</th>\n",
       "      <th>Drug Laws-possession</th>\n",
       "      <th>Drug Laws-sell or make</th>\n",
       "      <th>Intoxication (Alcohol Beverage)</th>\n",
       "      <th>Liquor Sale/Trade (Bootlegging)</th>\n",
       "      <th>Liquor Violation</th>\n",
       "      <th>Alcohol/Drug Related - FATAL</th>\n",
       "      <th>Alcohol/Drug Related - INJURY</th>\n",
       "      <th>Alcohol/Drug Related - NO INJURY</th>\n",
       "      <th>Alcohol/Drug Related - PEDESTRIAN</th>\n",
       "      <th>Driving while Intoxicated</th>\n",
       "      <th>Driving Under the Influence</th>\n",
       "    </tr>\n",
       "  </thead>\n",
       "  <tbody>\n",
       "    <tr>\n",
       "      <th>0</th>\n",
       "      <td>2005</td>\n",
       "      <td>134</td>\n",
       "      <td>132</td>\n",
       "      <td>12</td>\n",
       "      <td>2554</td>\n",
       "      <td>8</td>\n",
       "      <td>141</td>\n",
       "      <td>NaN</td>\n",
       "      <td>23</td>\n",
       "      <td>14</td>\n",
       "      <td>1</td>\n",
       "      <td>217</td>\n",
       "      <td>129</td>\n",
       "    </tr>\n",
       "    <tr>\n",
       "      <th>1</th>\n",
       "      <td>2010</td>\n",
       "      <td>220</td>\n",
       "      <td>104</td>\n",
       "      <td>9</td>\n",
       "      <td>247</td>\n",
       "      <td>25</td>\n",
       "      <td>10435</td>\n",
       "      <td>10.0</td>\n",
       "      <td>26</td>\n",
       "      <td>21</td>\n",
       "      <td>4</td>\n",
       "      <td>319</td>\n",
       "      <td>172</td>\n",
       "    </tr>\n",
       "    <tr>\n",
       "      <th>2</th>\n",
       "      <td>2015</td>\n",
       "      <td>86</td>\n",
       "      <td>196</td>\n",
       "      <td>18</td>\n",
       "      <td>7093</td>\n",
       "      <td>7</td>\n",
       "      <td>7132</td>\n",
       "      <td>2.0</td>\n",
       "      <td>15</td>\n",
       "      <td>19</td>\n",
       "      <td>5</td>\n",
       "      <td>651</td>\n",
       "      <td>136</td>\n",
       "    </tr>\n",
       "  </tbody>\n",
       "</table>\n",
       "</div>"
      ],
      "text/plain": [
       "   Year  Contributing to a Minor  Drug Laws-possession  \\\n",
       "0  2005                      134                   132   \n",
       "1  2010                      220                   104   \n",
       "2  2015                       86                   196   \n",
       "\n",
       "   Drug Laws-sell or make  Intoxication (Alcohol Beverage)  \\\n",
       "0                      12                             2554   \n",
       "1                       9                              247   \n",
       "2                      18                             7093   \n",
       "\n",
       "   Liquor Sale/Trade (Bootlegging)  Liquor Violation  \\\n",
       "0                                8               141   \n",
       "1                               25             10435   \n",
       "2                                7              7132   \n",
       "\n",
       "   Alcohol/Drug Related - FATAL  Alcohol/Drug Related - INJURY  \\\n",
       "0                           NaN                             23   \n",
       "1                          10.0                             26   \n",
       "2                           2.0                             15   \n",
       "\n",
       "   Alcohol/Drug Related - NO INJURY  Alcohol/Drug Related - PEDESTRIAN  \\\n",
       "0                                14                                  1   \n",
       "1                                21                                  4   \n",
       "2                                19                                  5   \n",
       "\n",
       "   Driving while Intoxicated  Driving Under the Influence  \n",
       "0                        217                          129  \n",
       "1                        319                          172  \n",
       "2                        651                          136  "
      ]
     },
     "execution_count": 17,
     "metadata": {},
     "output_type": "execute_result"
    }
   ],
   "source": [
    "df.head()"
   ]
  },
  {
   "cell_type": "code",
   "execution_count": null,
   "metadata": {
    "collapsed": true
   },
   "outputs": [],
   "source": []
  }
 ],
 "metadata": {
  "kernelspec": {
   "display_name": "Python 3",
   "language": "python",
   "name": "python3"
  },
  "language_info": {
   "codemirror_mode": {
    "name": "ipython",
    "version": 3
   },
   "file_extension": ".py",
   "mimetype": "text/x-python",
   "name": "python",
   "nbconvert_exporter": "python",
   "pygments_lexer": "ipython3",
   "version": "3.5.2"
  }
 },
 "nbformat": 4,
 "nbformat_minor": 1
}
