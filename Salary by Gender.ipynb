{
 "cells": [
  {
   "cell_type": "code",
   "execution_count": 1,
   "metadata": {
    "collapsed": true
   },
   "outputs": [],
   "source": [
    "import agate"
   ]
  },
  {
   "cell_type": "code",
   "execution_count": 2,
   "metadata": {
    "collapsed": false
   },
   "outputs": [],
   "source": [
    "salaries = agate.Table.from_csv('Desktop/Nebraska/Journalism/DN/Investigations/nusalaries1516.csv')"
   ]
  },
  {
   "cell_type": "code",
   "execution_count": 3,
   "metadata": {
    "collapsed": false
   },
   "outputs": [
    {
     "name": "stdout",
     "output_type": "stream",
     "text": [
      "|-------------------------+---------------|\n",
      "|  column_names           | column_types  |\n",
      "|-------------------------+---------------|\n",
      "|  Gender                 | Text          |\n",
      "|  Employee               | Text          |\n",
      "|  Position               | Text          |\n",
      "|  Campus                 | Text          |\n",
      "|  Department             | Text          |\n",
      "|  Budgeted Annual Salary | Number        |\n",
      "|  State or Tuition Funds | Number        |\n",
      "|  Other Funds            | Number        |\n",
      "|-------------------------+---------------|\n",
      "\n"
     ]
    }
   ],
   "source": [
    "print(salaries)"
   ]
  },
  {
   "cell_type": "code",
   "execution_count": 4,
   "metadata": {
    "collapsed": false
   },
   "outputs": [
    {
     "name": "stdout",
     "output_type": "stream",
     "text": [
      "|---------+----------------------+----------------------+--------+----------------------+------------------------+------------------------+--------------|\n",
      "|  Gender | Employee             | Position             | Campus | Department           | Budgeted Annual Salary | State or Tuition Funds | Other Funds  |\n",
      "|---------+----------------------+----------------------+--------+----------------------+------------------------+------------------------+--------------|\n",
      "|  m      | Abel, Marco          | Professor            | UNL    | English              |                 37,080 |                 37,080 |              |\n",
      "|  f      | Adams, Krista L      | Assistant Professor  | UNL    | Teaching, Learnin... |                 66,698 |                 66,698 |              |\n",
      "|  f      | Adenwalla, Shireen   | Associate Professor  | UNL    | Physics & Astronomy  |                 89,088 |                 89,088 |              |\n",
      "|  m      | Admiraal, David M    | Associate Professor  | UNL    | Civil Engineering... |                 91,662 |                 91,662 |              |\n",
      "|  f      | Agee, Jonis          | Professor            | UNL    | English              |                118,377 |                118,377 |              |\n",
      "|  m      | Ahn, Changbum        | Assistant Professor  | UNL    | Durham School Arc... |                 88,566 |                 88,566 |              |\n",
      "|  m      | Alahmad, Mahmoud     | Associate Professor  | UNL    | Durham School Arc... |                106,788 |                106,788 |              |\n",
      "|  m      | Albano, Anthony D    | Assistant Professor  | UNL    | Educational Psych... |                 68,547 |                 68,547 |              |\n",
      "|  m      | Alexander, Dennis R  | Professor            | UNL    | Electrical & Comp... |                185,314 |                185,314 |              |\n",
      "|  m      | Alfano, James R      | Bessey Professorship | UNL    | Plant Pathology      |                  5,000 |                  5,000 |              |\n",
      "|  m      | Allen, Arthur C      | Associate Professor  | UNL    | School of Account... |                157,905 |                157,905 |              |\n",
      "|  m      | Allgood, Sam Anthony | Professor            | UNL    | Economics            |                116,567 |                116,567 |              |\n",
      "|  m      | Allgood, Sam Anthony | College Professor... | UNL    | Economics            |                 15,000 |                        |      15,000  |\n",
      "|  f      | Allison, Deeann K    | Professor            | UNL    | University Libraries |                107,000 |                107,000 |              |\n",
      "|  m      | Alloway, Richard K   | Associate Professor  | UNL    | Broadcasting         |                 95,693 |                 95,693 |              |\n",
      "|  f      | Amano, Ikuho         | Associate Professor  | UNL    | Modern Languages ... |                 59,720 |                 59,720 |              |\n",
      "|  f      | Anaya, Toni          | Associate Professor  | UNL    | University Libraries |                 67,620 |                 67,620 |              |\n",
      "|  m      | Anderson, John E     | Professor            | UNL    | Economics            |                166,404 |                166,404 |              |\n",
      "|  m      | Anderson, Mark Ro... | Associate Professor  | UNL    | Earth and Atmosph... |                 91,434 |                 91,434 |              |\n",
      "|  m      | Anderson, Scott L    | Professor            | UNL    | School of Music      |                 93,114 |                 93,114 |              |\n",
      "|  m      | Anderson, Scott L    | Hixson-Lied Profe... | UNL    | School of Music      |                  3,000 |                        |       3,000  |\n",
      "|  m      | Anderson, Timothy G  | Associate Profess... | UNL    | News - Editorial     |                 27,058 |                 27,058 |              |\n",
      "|  m      | Angeletti, Peter C   | Associate Professor  | UNL    | School of Biologi... |                 72,911 |                 72,911 |              |\n",
      "|  m      | Archer, John Clark   | Professor            | UNL    | Geography-SNR        |                 84,382 |                 84,382 |              |\n",
      "|  m      | Argyropoulos, Chr... | Assistant Professor  | UNL    | Electrical & Comp... |                 87,083 |                 87,083 |              |\n",
      "|  m      | Ari, Waskar T        | Associate Professor  | UNL    | History              |                 40,119 |                 40,119 |              |\n",
      "|  m      | Ari, Waskar T        | Associate Professor  | UNL    | Ethnic Studies       |                 26,747 |                 26,747 |              |\n",
      "|  f      | Arthurs, Leilani Ann | Assistant Professor  | UNL    | Earth and Atmosph... |                 67,123 |                 67,123 |              |\n",
      "|  m      | Asgarpoor, Sohrab    | Professor            | UNL    | Electrical & Comp... |                113,820 |                113,820 |              |\n",
      "|  f      | Asher, Stacy J       | Assistant Professor  | UNL    | Art & Art History    |                 61,839 |                 61,839 |              |\n",
      "|  f      | Athanassopoulos, ... | Associate Professor  | UNL    | Anthropology         |                 48,204 |                 48,204 |              |\n",
      "|  f      | Athanassopoulos, ... | Associate Professor  | UNL    | Classics & Religi... |                 12,052 |                 12,052 |              |\n",
      "|  f      | Atkin, Audrey L      | Associate Professor  | UNL    | School of Biologi... |                 77,398 |                 77,398 |              |\n",
      "|  m      | Avalos, George       | Professor            | UNL    | Mathematics          |                101,000 |                101,000 |              |\n",
      "|  m      | Avramov, Luchezar L  | Professor            | UNL    | Mathematics          |                173,700 |                173,700 |              |\n",
      "|  f      | Avramova, Zoya V     | Professor            | UNL    | School of Biologi... |                 94,038 |                 94,038 |              |\n",
      "|  f      | Azima, Rachel        | Assistant Profess... | UNL    | English              |                 57,065 |                 57,065 |              |\n",
      "|  m      | Babchuk, Wayne A     | Assistant Profess... | UNL    | Anthropology         |                 29,040 |                 29,040 |              |\n",
      "|  m      | Babchuk, Wayne A     | Assistant Profess... | UNL    | Educational Psych... |                 29,039 |                 29,039 |              |\n",
      "|  f      | Bachman, Gwendolyn C | Associate Professor  | UNL    | School of Biologi... |                 73,000 |                 73,000 |              |\n",
      "|  f      | Baesu, Eveline       | Associate Professor  | UNL    | Mechanical & Mate... |                 79,644 |                 79,644 |              |\n",
      "|  f      | Bahe, Lindsey A E    | Associate Professor  | UNL    | Interior Design      |                 68,202 |                 68,202 |              |\n",
      "|  m      | Bailey, John Robert  | Professor            | UNL    | School of Music      |                104,321 |                104,321 |              |\n",
      "|  f      | Balasubramanian, ... | Professor            | UNL    | Modern Languages ... |                 78,608 |                 78,608 |              |\n",
      "|  f      | Balasubramanian, ... | College Professor... | UNL    | Modern Languages ... |                  5,000 |                        |       5,000  |\n",
      "|  m      | Balkir, Sina         | Professor            | UNL    | Electrical & Comp... |                123,422 |                123,422 |              |\n",
      "|  m      | Ball, Allen Dwayne   | Associate Professor  | UNL    | Marketing            |                 48,127 |                 48,127 |              |\n",
      "|  m      | Banerjee, Sudeep     | Research Associat... | UNL    | Physics & Astronomy  |                 84,663 |                        |      84,663  |\n",
      "|  f      | Barber, Carolyn A    | Professor            | UNL    | School of Music      |                 94,106 |                 94,106 |              |\n",
      "|  f      | Barger, Diane C      | Professor            | UNL    | School of Music      |                 87,305 |                 87,305 |              |\n",
      "|  ...    | ...                  | ...                  | ...    | ...                  |                    ... |                    ... |         ...  |\n",
      "|---------+----------------------+----------------------+--------+----------------------+------------------------+------------------------+--------------|\n"
     ]
    }
   ],
   "source": [
    "salaries.print_table(max_rows=50)"
   ]
  },
  {
   "cell_type": "code",
   "execution_count": 5,
   "metadata": {
    "collapsed": true
   },
   "outputs": [],
   "source": [
    "by_position = salaries.group_by('Position')"
   ]
  },
  {
   "cell_type": "code",
   "execution_count": 6,
   "metadata": {
    "collapsed": true
   },
   "outputs": [],
   "source": [
    "position_totals = by_position.aggregate([\n",
    "        ('count', agate.Count())\n",
    "    ])"
   ]
  },
  {
   "cell_type": "code",
   "execution_count": 7,
   "metadata": {
    "collapsed": false
   },
   "outputs": [
    {
     "name": "stdout",
     "output_type": "stream",
     "text": [
      "|-----------------------+--------|\n",
      "|  Position             | count  |\n",
      "|-----------------------+--------|\n",
      "|  Professor            |   374  |\n",
      "|  Assistant Professor  |   146  |\n",
      "|  Associate Professor  |   289  |\n",
      "|  Bessey Professorship |     9  |\n",
      "|  College Professor... |     1  |\n",
      "|  Hixson-Lied Profe... |     4  |\n",
      "|  Associate Profess... |    30  |\n",
      "|  Assistant Profess... |    59  |\n",
      "|  College Professor... |     1  |\n",
      "|  Research Associat... |     1  |\n",
      "|  Research Associat... |    17  |\n",
      "|  Bessy Professorship  |     1  |\n",
      "|  Cather Professorship |     9  |\n",
      "|  Rsch Assoc Professor |     6  |\n",
      "|  G.A. Newkirk Prof... |     1  |\n",
      "|  Bessey Professor     |     5  |\n",
      "|  Research Assistan... |    15  |\n",
      "|  Cather/Bessey Pro... |     3  |\n",
      "|  Weaver Professorship |     3  |\n",
      "|  Douglas Professor... |     4  |\n",
      "|  Paula & D.B. Varn... |     1  |\n",
      "|  Research Professor   |     5  |\n",
      "|  Coll Prof-Nathan ... |     1  |\n",
      "|  J.S. Tinstman Pro... |     1  |\n",
      "|  Susan J. Rosowski... |     4  |\n",
      "|  Asst Professor       |     6  |\n",
      "|  College Professor... |     3  |\n",
      "|  Professor of Prac... |    10  |\n",
      "|  College Professor... |     1  |\n",
      "|  Assoc Professor      |     5  |\n",
      "|  Assistant Profess... |     1  |\n",
      "|  Bruhn/Othmer Prof... |     1  |\n",
      "|  Assistant Profess... |     1  |\n",
      "|  College Professor... |     1  |\n",
      "|  McBroom College P... |     1  |\n",
      "|  Rsch Asst Professor  |     5  |\n",
      "|  Lederer Professor... |     1  |\n",
      "|  Cordes Professorship |     1  |\n",
      "|  Susan Rosowski Pr... |     6  |\n",
      "|  Univ Professor-Ge... |     2  |\n",
      "|  College Professor    |     2  |\n",
      "|  Assc Professor of... |     1  |\n",
      "|  Gilmartin Profess... |     1  |\n",
      "|  Willa Cather Prof... |     1  |\n",
      "|  Univ Prof-Preside... |     1  |\n",
      "|  Rsch Assc Professor  |     1  |\n",
      "|  Rosowski Professo... |     3  |\n",
      "|  H Conroy Law Prof... |     1  |\n",
      "|  Univ Professor/Lott  |     1  |\n",
      "|  Coll Prfsp/Larson... |     1  |\n",
      "|  Roper Dean's Futu... |     1  |\n",
      "|  Berkshire Family ... |     1  |\n",
      "|  Univ Prof - Thomp... |     1  |\n",
      "|  Chancellor's Prof... |     1  |\n",
      "|  Col Professor-Elm... |     1  |\n",
      "|  Col Professor  - ... |     1  |\n",
      "|  Delman A. Lienema... |     1  |\n",
      "|  Cather Professor     |     2  |\n",
      "|  Research Asst Pro... |     1  |\n",
      "|  Col Professorship... |     1  |\n",
      "|  College Professor... |     1  |\n",
      "|  Clinical Professor   |     1  |\n",
      "|  College Professor... |     1  |\n",
      "|  College Professor... |     1  |\n",
      "|  Coll Prof-Law Alu... |     3  |\n",
      "|  Nore Professor of... |     1  |\n",
      "|  Clinical Associat... |     1  |\n",
      "|  College Professor... |     1  |\n",
      "|  College Prof - BK... |     1  |\n",
      "|  Clinical Assistan... |     1  |\n",
      "|  Univ Professor/Ch... |     1  |\n",
      "|  College Professor... |     1  |\n",
      "|  Charles Mach Univ... |     1  |\n",
      "|  Brightfelt MME Pr... |     1  |\n",
      "|  Rosowski Professor   |     1  |\n",
      "|  College Professor... |     1  |\n",
      "|  Distinguished Pro... |     1  |\n",
      "|  Assistant Profess... |     2  |\n",
      "|  Coll Professor - ... |     1  |\n",
      "|  Rsch Professor       |     1  |\n",
      "|-----------------------+--------|\n"
     ]
    }
   ],
   "source": [
    "position_totals.print_table()"
   ]
  },
  {
   "cell_type": "code",
   "execution_count": 8,
   "metadata": {
    "collapsed": true
   },
   "outputs": [],
   "source": [
    "by_gender = salaries.group_by('Gender')"
   ]
  },
  {
   "cell_type": "code",
   "execution_count": 9,
   "metadata": {
    "collapsed": false
   },
   "outputs": [],
   "source": [
    "salary_by_gender = by_gender.aggregate([\n",
    "        ('count', agate.Count()),\n",
    "        ('median_salary', agate.Median('Budgeted Annual Salary')),\n",
    "        ('avg_salary', agate.Mean('Budgeted Annual Salary'))\n",
    "    ])"
   ]
  },
  {
   "cell_type": "code",
   "execution_count": 10,
   "metadata": {
    "collapsed": false
   },
   "outputs": [
    {
     "name": "stdout",
     "output_type": "stream",
     "text": [
      "|---------+-------+---------------+-----------------------|\n",
      "|  Gender | count | median_salary |           avg_salary  |\n",
      "|---------+-------+---------------+-----------------------|\n",
      "|  m      |   673 |        84,570 | 84,572.5066864784...  |\n",
      "|  f      |   409 |        70,293 | 71,273.9266503667...  |\n",
      "|---------+-------+---------------+-----------------------|\n"
     ]
    }
   ],
   "source": [
    "salary_by_gender.print_table()"
   ]
  },
  {
   "cell_type": "code",
   "execution_count": 11,
   "metadata": {
    "collapsed": true
   },
   "outputs": [],
   "source": [
    "with_associate_professor = salaries.where(lambda row: row['Position'] == 'Associate Professor')"
   ]
  },
  {
   "cell_type": "code",
   "execution_count": 12,
   "metadata": {
    "collapsed": false
   },
   "outputs": [
    {
     "name": "stdout",
     "output_type": "stream",
     "text": [
      "|---------+----------------------+---------------------+--------+----------------------+------------------------+------------------------+--------------|\n",
      "|  Gender | Employee             | Position            | Campus | Department           | Budgeted Annual Salary | State or Tuition Funds | Other Funds  |\n",
      "|---------+----------------------+---------------------+--------+----------------------+------------------------+------------------------+--------------|\n",
      "|  f      | Adenwalla, Shireen   | Associate Professor | UNL    | Physics & Astronomy  |                 89,088 |                 89,088 |              |\n",
      "|  m      | Admiraal, David M    | Associate Professor | UNL    | Civil Engineering... |                 91,662 |                 91,662 |              |\n",
      "|  m      | Alahmad, Mahmoud     | Associate Professor | UNL    | Durham School Arc... |                106,788 |                106,788 |              |\n",
      "|  m      | Allen, Arthur C      | Associate Professor | UNL    | School of Account... |                157,905 |                157,905 |              |\n",
      "|  m      | Alloway, Richard K   | Associate Professor | UNL    | Broadcasting         |                 95,693 |                 95,693 |              |\n",
      "|  f      | Amano, Ikuho         | Associate Professor | UNL    | Modern Languages ... |                 59,720 |                 59,720 |              |\n",
      "|  f      | Anaya, Toni          | Associate Professor | UNL    | University Libraries |                 67,620 |                 67,620 |              |\n",
      "|  m      | Anderson, Mark Ro... | Associate Professor | UNL    | Earth and Atmosph... |                 91,434 |                 91,434 |              |\n",
      "|  m      | Angeletti, Peter C   | Associate Professor | UNL    | School of Biologi... |                 72,911 |                 72,911 |              |\n",
      "|  m      | Ari, Waskar T        | Associate Professor | UNL    | History              |                 40,119 |                 40,119 |              |\n",
      "|  m      | Ari, Waskar T        | Associate Professor | UNL    | Ethnic Studies       |                 26,747 |                 26,747 |              |\n",
      "|  f      | Athanassopoulos, ... | Associate Professor | UNL    | Anthropology         |                 48,204 |                 48,204 |              |\n",
      "|  f      | Athanassopoulos, ... | Associate Professor | UNL    | Classics & Religi... |                 12,052 |                 12,052 |              |\n",
      "|  f      | Atkin, Audrey L      | Associate Professor | UNL    | School of Biologi... |                 77,398 |                 77,398 |              |\n",
      "|  f      | Bachman, Gwendolyn C | Associate Professor | UNL    | School of Biologi... |                 73,000 |                 73,000 |              |\n",
      "|  f      | Baesu, Eveline       | Associate Professor | UNL    | Mechanical & Mate... |                 79,644 |                 79,644 |              |\n",
      "|  f      | Bahe, Lindsey A E    | Associate Professor | UNL    | Interior Design      |                 68,202 |                 68,202 |              |\n",
      "|  m      | Ball, Allen Dwayne   | Associate Professor | UNL    | Marketing            |                 48,127 |                 48,127 |              |\n",
      "|  f      | Bartelt-Hunt, Sha... | Associate Professor | UNL    | Civil Engineering... |                101,430 |                101,430 |              |\n",
      "|  f      | Barton, Dona-Gene    | Associate Professor | UNL    | Political Science    |                 72,258 |                 72,258 |              |\n",
      "|  m      | Belashchenko, Kir... | Associate Professor | UNL    | Physics & Astronomy  |                 85,024 |                 85,024 |              |\n",
      "|  m      | Berger, Eric         | Associate Professor | UNL    | College of Law       |                148,850 |                148,850 |              |\n",
      "|  m      | Bernstein, Stuart P  | Associate Professor | UNL    | Durham School Arc... |                 90,339 |                 90,339 |              |\n",
      "|  f      | Bernthal, Rebecca A  | Associate Professor | UNL    | University Libraries |                 74,079 |                 74,079 |              |\n",
      "|  m      | Bloom, Kenneth A     | Associate Professor | UNL    | Physics & Astronomy  |                 87,701 |                 87,701 |              |\n",
      "|  f      | Boden, Dana W        | Associate Professor | UNL    | University Libraries |                 63,270 |                 63,270 |              |\n",
      "|  f      | Bohls, Margaret E    | Associate Professor | UNL    | Art & Art History    |                 70,753 |                 70,753 |              |\n",
      "|  f      | Bolland, Andrea Lee  | Associate Professor | UNL    | Art & Art History    |                 69,325 |                 69,325 |              |\n",
      "|  m      | Bonsell, John M      | Associate Professor | UNL    | Durham School Arc... |                 78,313 |                 78,313 |              |\n",
      "|  m      | Borden, Ian M        | Associate Professor | UNL    | Johnny Carson Sch... |                 61,741 |                 61,741 |              |\n",
      "|  f      | Boudreau, Signe O    | Associate Professor | UNL    | University Libraries |                 61,985 |                 61,985 |              |\n",
      "|  m      | Bovaird, James A     | Associate Professor | UNL    | Educational Psych... |                107,483 |                107,483 |              |\n",
      "|  f      | Brank, Eve M         | Associate Professor | UNL    | Psychology           |                 82,107 |                 82,107 |              |\n",
      "|  f      | Brantner, Christi... | Associate Professor | UNL    | Modern Languages ... |                 57,828 |                 57,828 |              |\n",
      "|  m      | Brassil, Chad E      | Associate Professor | UNL    | School of Biologi... |                 77,000 |                 77,000 |              |\n",
      "|  m      | Bronfman, Aaron R    | Associate Professor | UNL    | Philosophy           |                 66,830 |                 66,830 |              |\n",
      "|  f      | Brown, Deborah M     | Associate Professor | UNL    | School of Biologi... |                 79,327 |                 79,327 |              |\n",
      "|  m      | Brunero, John S      | Associate Professor | UNL    | Philosophy           |                 80,088 |                 80,088 |              |\n",
      "|  m      | Buhs, Eric S         | Associate Professor | UNL    | Educational Psych... |                 80,016 |                 80,016 |              |\n",
      "|  f      | Bullard, Susan M     | Associate Professor | UNL    | News - Editorial     |                 80,080 |                 80,080 |              |\n",
      "|  m      | Bushard, Anthony J   | Associate Professor | UNL    | School of Music      |                 65,366 |                 65,366 |              |\n",
      "|  f      | Butler, Kathleen S   | Associate Professor | UNL    | School of Music      |                 64,433 |                 64,433 |              |\n",
      "|  m      | Cal, Santiago J      | Associate Professor | UNL    | Art & Art History    |                 66,997 |                 66,997 |              |\n",
      "|  m      | Cantarero, Rodrigo   | Associate Professor | UNL    | Community & Regio... |                 71,050 |                 71,050 |              |\n",
      "|  m      | Carrell, Thomas D    | Associate Professor | UNL    | Special Ed & Comm... |                 72,209 |                 72,209 |              |\n",
      "|  m      | Centurion, Martin    | Associate Professor | UNL    | Physics & Astronomy  |                 85,897 |                 85,897 |              |\n",
      "|  f      | Chan, Elaine         | Associate Professor | UNL    | Teaching, Learnin... |                 79,487 |                 79,487 |              |\n",
      "|  m      | Cheadle, Jacob E     | Associate Professor | UNL    | Sociology            |                 93,000 |                 93,000 |              |\n",
      "|  m      | Cheung, Chin Li      | Associate Professor | UNL    | Chemistry            |                 82,334 |                 82,334 |              |\n",
      "|  f      | Chia, Catherine P    | Associate Professor | UNL    | School of Biologi... |                 63,192 |                 63,192 |              |\n",
      "|  ...    | ...                  | ...                 | ...    | ...                  |                    ... |                    ... |         ...  |\n",
      "|---------+----------------------+---------------------+--------+----------------------+------------------------+------------------------+--------------|\n"
     ]
    }
   ],
   "source": [
    "with_associate_professor.print_table(max_rows=50)"
   ]
  },
  {
   "cell_type": "code",
   "execution_count": 13,
   "metadata": {
    "collapsed": true
   },
   "outputs": [],
   "source": [
    "associate_by_gender = with_associate_professor.group_by('Gender')"
   ]
  },
  {
   "cell_type": "code",
   "execution_count": 14,
   "metadata": {
    "collapsed": true
   },
   "outputs": [],
   "source": [
    "ass_salary_by_gender = associate_by_gender.aggregate([\n",
    "        ('count', agate.Count()),\n",
    "        ('median_salary', agate.Median('Budgeted Annual Salary')),\n",
    "        ('avg_salary', agate.Mean('Budgeted Annual Salary'))\n",
    "    ])"
   ]
  },
  {
   "cell_type": "code",
   "execution_count": 15,
   "metadata": {
    "collapsed": false
   },
   "outputs": [
    {
     "name": "stdout",
     "output_type": "stream",
     "text": [
      "|---------+-------+---------------+-----------------------|\n",
      "|  Gender | count | median_salary |           avg_salary  |\n",
      "|---------+-------+---------------+-----------------------|\n",
      "|  f      |   124 |        72,629 | 73,145.5322580645...  |\n",
      "|  m      |   165 |        80,513 | 83,063.4969696969...  |\n",
      "|---------+-------+---------------+-----------------------|\n"
     ]
    }
   ],
   "source": [
    "ass_salary_by_gender.print_table()"
   ]
  },
  {
   "cell_type": "code",
   "execution_count": 16,
   "metadata": {
    "collapsed": true
   },
   "outputs": [],
   "source": [
    "with_assistant = salaries.where(lambda row: row['Position'] == 'Assistant Professor')"
   ]
  },
  {
   "cell_type": "code",
   "execution_count": 17,
   "metadata": {
    "collapsed": false
   },
   "outputs": [
    {
     "name": "stdout",
     "output_type": "stream",
     "text": [
      "|---------+----------------------+---------------------+--------+----------------------+------------------------+------------------------+--------------|\n",
      "|  Gender | Employee             | Position            | Campus | Department           | Budgeted Annual Salary | State or Tuition Funds | Other Funds  |\n",
      "|---------+----------------------+---------------------+--------+----------------------+------------------------+------------------------+--------------|\n",
      "|  f      | Adams, Krista L      | Assistant Professor | UNL    | Teaching, Learnin... |                 66,698 |                 66,698 |              |\n",
      "|  m      | Ahn, Changbum        | Assistant Professor | UNL    | Durham School Arc... |                 88,566 |                 88,566 |              |\n",
      "|  m      | Albano, Anthony D    | Assistant Professor | UNL    | Educational Psych... |                 68,547 |                 68,547 |              |\n",
      "|  m      | Argyropoulos, Chr... | Assistant Professor | UNL    | Electrical & Comp... |                 87,083 |                 87,083 |              |\n",
      "|  f      | Arthurs, Leilani Ann | Assistant Professor | UNL    | Earth and Atmosph... |                 67,123 |                 67,123 |              |\n",
      "|  f      | Asher, Stacy J       | Assistant Professor | UNL    | Art & Art History    |                 61,839 |                 61,839 |              |\n",
      "|  f      | Batur, Demet         | Assistant Professor | UNL    | Management           |                130,000 |                130,000 |              |\n",
      "|  m      | Beard, Jack M        | Assistant Professor | UNL    | College of Law       |                115,188 |                115,188 |              |\n",
      "|  f      | Bennur, Shubhapri... | Assistant Professor | UNL    | Textiles, Merchan... |                 66,168 |                 66,168 |              |\n",
      "|  f      | Blankley, Kristen    | Assistant Professor | UNL    | College of Law       |                118,440 |                118,440 |              |\n",
      "|  ...    | ...                  | ...                 | ...    | ...                  |                    ... |                    ... |         ...  |\n",
      "|---------+----------------------+---------------------+--------+----------------------+------------------------+------------------------+--------------|\n"
     ]
    }
   ],
   "source": [
    "with_assistant.print_table(max_rows=10)"
   ]
  },
  {
   "cell_type": "code",
   "execution_count": 18,
   "metadata": {
    "collapsed": true
   },
   "outputs": [],
   "source": [
    "assist_by_gender = with_assistant.group_by('Gender')"
   ]
  },
  {
   "cell_type": "code",
   "execution_count": 19,
   "metadata": {
    "collapsed": true
   },
   "outputs": [],
   "source": [
    "assist_salary_by_gender = assist_by_gender.aggregate([\n",
    "        ('count', agate.Count()),\n",
    "        ('median_salary', agate.Median('Budgeted Annual Salary')),\n",
    "        ('avg_salary', agate.Mean('Budgeted Annual Salary'))\n",
    "    ])"
   ]
  },
  {
   "cell_type": "code",
   "execution_count": 20,
   "metadata": {
    "collapsed": false
   },
   "outputs": [
    {
     "name": "stdout",
     "output_type": "stream",
     "text": [
      "|---------+-------+---------------+-----------------------|\n",
      "|  Gender | count | median_salary |           avg_salary  |\n",
      "|---------+-------+---------------+-----------------------|\n",
      "|  f      |    68 |      65,254.0 | 70,987.1029411764...  |\n",
      "|  m      |    78 |      75,553.5 | 82,279.8846153846...  |\n",
      "|---------+-------+---------------+-----------------------|\n"
     ]
    }
   ],
   "source": [
    "assist_salary_by_gender.print_table()"
   ]
  },
  {
   "cell_type": "code",
   "execution_count": 21,
   "metadata": {
    "collapsed": true
   },
   "outputs": [],
   "source": [
    "proflist = ['Associate Professor', 'Assistant Professor', 'Research Assistant Professor', 'Research Associate Professor', 'Professor of Practice', 'Associate Professor of Practice', 'Assistant Professor of Practice', 'Rsch Assoc Professor', 'Asst Professor', 'Assoc Professor', 'Rsch Asst Professor']"
   ]
  },
  {
   "cell_type": "code",
   "execution_count": 22,
   "metadata": {
    "collapsed": true
   },
   "outputs": [],
   "source": [
    "with_professor = salaries.where(lambda row: row['Position'] == 'Professor')"
   ]
  },
  {
   "cell_type": "code",
   "execution_count": 23,
   "metadata": {
    "collapsed": true
   },
   "outputs": [],
   "source": [
    "prof_by_gender = with_professor.group_by('Gender')"
   ]
  },
  {
   "cell_type": "code",
   "execution_count": 24,
   "metadata": {
    "collapsed": true
   },
   "outputs": [],
   "source": [
    "prof_salary_by_gender = prof_by_gender.aggregate([\n",
    "        ('count', agate.Count()),\n",
    "        ('median_salary', agate.Median('Budgeted Annual Salary')),\n",
    "        ('avg_salary', agate.Mean('Budgeted Annual Salary'))\n",
    "    ])"
   ]
  },
  {
   "cell_type": "code",
   "execution_count": 25,
   "metadata": {
    "collapsed": false
   },
   "outputs": [
    {
     "name": "stdout",
     "output_type": "stream",
     "text": [
      "|---------+-------+---------------+-----------------------|\n",
      "|  Gender | count | median_salary |           avg_salary  |\n",
      "|---------+-------+---------------+-----------------------|\n",
      "|  m      |   272 |       104,245 | 109,574.757352941...  |\n",
      "|  f      |   102 |        88,245 | 91,764.1764705882...  |\n",
      "|---------+-------+---------------+-----------------------|\n"
     ]
    }
   ],
   "source": [
    "prof_salary_by_gender.print_table()"
   ]
  },
  {
   "cell_type": "code",
   "execution_count": null,
   "metadata": {
    "collapsed": true
   },
   "outputs": [],
   "source": []
  },
  {
   "cell_type": "code",
   "execution_count": null,
   "metadata": {
    "collapsed": true
   },
   "outputs": [],
   "source": []
  },
  {
   "cell_type": "code",
   "execution_count": null,
   "metadata": {
    "collapsed": true
   },
   "outputs": [],
   "source": []
  },
  {
   "cell_type": "code",
   "execution_count": null,
   "metadata": {
    "collapsed": true
   },
   "outputs": [],
   "source": []
  },
  {
   "cell_type": "code",
   "execution_count": null,
   "metadata": {
    "collapsed": true
   },
   "outputs": [],
   "source": []
  },
  {
   "cell_type": "code",
   "execution_count": null,
   "metadata": {
    "collapsed": false
   },
   "outputs": [],
   "source": []
  },
  {
   "cell_type": "code",
   "execution_count": null,
   "metadata": {
    "collapsed": true
   },
   "outputs": [],
   "source": []
  }
 ],
 "metadata": {
  "kernelspec": {
   "display_name": "Python 3",
   "language": "python",
   "name": "python3"
  },
  "language_info": {
   "codemirror_mode": {
    "name": "ipython",
    "version": 3
   },
   "file_extension": ".py",
   "mimetype": "text/x-python",
   "name": "python",
   "nbconvert_exporter": "python",
   "pygments_lexer": "ipython3",
   "version": "3.5.2"
  }
 },
 "nbformat": 4,
 "nbformat_minor": 0
}
