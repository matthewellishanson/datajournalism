{
 "cells": [
  {
   "cell_type": "code",
   "execution_count": 2,
   "metadata": {
    "collapsed": false
   },
   "outputs": [],
   "source": [
    "import agate"
   ]
  },
  {
   "cell_type": "markdown",
   "metadata": {
    "collapsed": true
   },
   "source": [
    "Start by importing agate."
   ]
  },
  {
   "cell_type": "code",
   "execution_count": 3,
   "metadata": {
    "collapsed": true
   },
   "outputs": [],
   "source": [
    "nusalaries = agate.Table.from_csv('Downloads/nusalaries1415.csv')"
   ]
  },
  {
   "cell_type": "markdown",
   "metadata": {
    "collapsed": true
   },
   "source": [
    "Next, set a variable for a table derived from nusalaries1415.csv."
   ]
  },
  {
   "cell_type": "code",
   "execution_count": 4,
   "metadata": {
    "collapsed": false
   },
   "outputs": [
    {
     "name": "stdout",
     "output_type": "stream",
     "text": [
      "|-------------------+---------------|\n",
      "|  column_names     | column_types  |\n",
      "|-------------------+---------------|\n",
      "|  ID               | Number        |\n",
      "|  Campus           | Text          |\n",
      "|  DepartmentNumber | Date          |\n",
      "|  DepartmentName   | Text          |\n",
      "|  CostElement      | Number        |\n",
      "|  Name             | Text          |\n",
      "|  Title            | Text          |\n",
      "|  Position         | Number        |\n",
      "|  Class            | Number        |\n",
      "|  Term             | Number        |\n",
      "|  FTE              | Boolean       |\n",
      "|  Salary           | Number        |\n",
      "|-------------------+---------------|\n",
      "\n"
     ]
    }
   ],
   "source": [
    "print(nusalaries)"
   ]
  },
  {
   "cell_type": "markdown",
   "metadata": {
    "collapsed": true
   },
   "source": [
    "Print the table, check for column names and types."
   ]
  },
  {
   "cell_type": "code",
   "execution_count": 5,
   "metadata": {
    "collapsed": false
   },
   "outputs": [],
   "source": [
    "with_unl = nusalaries.where(lambda row: row['Campus'] == 'UNIVERSITY OF NEBRASKA - LINCOLN')"
   ]
  },
  {
   "cell_type": "markdown",
   "metadata": {
    "collapsed": true
   },
   "source": [
    "Filter for only salaries at UNL."
   ]
  },
  {
   "cell_type": "code",
   "execution_count": 6,
   "metadata": {
    "collapsed": false
   },
   "outputs": [],
   "source": [
    "old = len(nusalaries.rows)\n",
    "new = len(with_unl.rows)"
   ]
  },
  {
   "cell_type": "code",
   "execution_count": 7,
   "metadata": {
    "collapsed": false
   },
   "outputs": [
    {
     "name": "stdout",
     "output_type": "stream",
     "text": [
      "8864\n"
     ]
    }
   ],
   "source": [
    "print(old - new)"
   ]
  },
  {
   "cell_type": "markdown",
   "metadata": {
    "collapsed": true
   },
   "source": [
    "Define variables for the datasets before and after filtering for UNL, then print the difference between the two. "
   ]
  },
  {
   "cell_type": "code",
   "execution_count": 8,
   "metadata": {
    "collapsed": false
   },
   "outputs": [],
   "source": [
    "with_salary = with_unl.where(lambda row: row['Salary'] is not 0)"
   ]
  },
  {
   "cell_type": "markdown",
   "metadata": {
    "collapsed": true
   },
   "source": [
    "Now take out salaries that are equal to zero."
   ]
  },
  {
   "cell_type": "code",
   "execution_count": 9,
   "metadata": {
    "collapsed": false
   },
   "outputs": [],
   "source": [
    "avg_salary = with_salary.aggregate(agate.Mean('Salary'))"
   ]
  },
  {
   "cell_type": "markdown",
   "metadata": {
    "collapsed": true
   },
   "source": [
    "Now that we've filtered out non-UNL employees and unpaid employees, it's time to calculate a mean salary! Yay!"
   ]
  },
  {
   "cell_type": "code",
   "execution_count": 10,
   "metadata": {
    "collapsed": false
   },
   "outputs": [
    {
     "name": "stdout",
     "output_type": "stream",
     "text": [
      "71766.36931491076568796776051\n"
     ]
    }
   ],
   "source": [
    "print(avg_salary)"
   ]
  },
  {
   "cell_type": "markdown",
   "metadata": {},
   "source": [
    "Now print that bitch. "
   ]
  },
  {
   "cell_type": "code",
   "execution_count": 11,
   "metadata": {
    "collapsed": true
   },
   "outputs": [],
   "source": [
    "median_salary = with_salary.aggregate(agate.Median('Salary'))"
   ]
  },
  {
   "cell_type": "code",
   "execution_count": 12,
   "metadata": {
    "collapsed": false
   },
   "outputs": [
    {
     "name": "stdout",
     "output_type": "stream",
     "text": [
      "54200\n"
     ]
    }
   ],
   "source": [
    "print(median_salary)"
   ]
  },
  {
   "cell_type": "markdown",
   "metadata": {},
   "source": [
    "Same thing for median salary, which will be more reliable and less influenced by major outliers."
   ]
  },
  {
   "cell_type": "code",
   "execution_count": 13,
   "metadata": {
    "collapsed": false
   },
   "outputs": [],
   "source": [
    "by_title = nusalaries.group_by('Title')"
   ]
  },
  {
   "cell_type": "markdown",
   "metadata": {},
   "source": [
    "Now group the original nusalaries table by job title."
   ]
  },
  {
   "cell_type": "code",
   "execution_count": 14,
   "metadata": {
    "collapsed": true
   },
   "outputs": [],
   "source": [
    "jobs = by_title.aggregate([\n",
    "        ('count', agate.Length()),\n",
    "        ('median_salary', agate.Median('Salary')),\n",
    "        ('average_salary', agate.Mean('Salary'))\n",
    "    ])"
   ]
  },
  {
   "cell_type": "markdown",
   "metadata": {},
   "source": [
    "Using the by_title sorted table you just defined, run count, median, and average functions for that table. For the median and mean functions, use the salary row."
   ]
  },
  {
   "cell_type": "code",
   "execution_count": 15,
   "metadata": {
    "collapsed": false
   },
   "outputs": [
    {
     "name": "stdout",
     "output_type": "stream",
     "text": [
      "|--------------------------------------+-------+---------------+---------------------------------|\n",
      "|  Title                               | count | median_salary |                 average_salary  |\n",
      "|--------------------------------------+-------+---------------+---------------------------------|\n",
      "|  Professor                           | 1,773 |     125,682.0 | 134,685.5138183869148336153412  |\n",
      "|  Asst Professor                      |   840 |      82,400.0 |  81,066.6583333333333333333333  |\n",
      "|  Assoc Professor                     |   676 |      98,760.5 | 102,537.7588757396449704142012  |\n",
      "|  Associate Professor                 |   596 |      74,064.0 |  82,576.7197986577181208053691  |\n",
      "|  Assistant Professor                 |   370 |      64,180.0 |  71,883.0216216216216216216216  |\n",
      "|  Office Associate I                  |   214 |      37,993.5 |  38,603.2570093457943925233645  |\n",
      "|  Custodian II                        |   189 |      23,792.0 |  24,438.5502645502645502645503  |\n",
      "|  Post-Doc Rsch Assoc                 |   158 |      39,076.0 |  39,758.9873417721518987341772  |\n",
      "|  Instructor                          |   149 |      54,627.0 |  60,033.3691275167785234899329  |\n",
      "|  Director                            |   137 |     131,712.0 | 136,370.1897810218978102189781  |\n",
      "|  Custodian                           |   120 |      23,637.5 |  24,385.3416666666666666666667  |\n",
      "|  Chairperson                         |   115 |     124,063.0 | 138,059.3826086956521739130435  |\n",
      "|  Office Associate                    |    99 |      32,150.0 |  31,745.9090909090909090909091  |\n",
      "|  Research Technologist II            |    94 |      45,077.0 |  44,918.0638297872340425531915  |\n",
      "|  Office Assoc                        |    87 |      33,486.0 |  34,492.8160919540229885057471  |\n",
      "|  Office Associate II                 |    86 |      41,998.5 |  42,775.6627906976744186046512  |\n",
      "|  Lecturer                            |    84 |      46,419.0 |  50,603.0000000000000000000000  |\n",
      "|  Staff Assistant                     |    79 |      35,000.0 |  35,284.2784810126582278481013  |\n",
      "|  Research Technologist I             |    78 |      36,111.5 |  37,185.1794871794871794871795  |\n",
      "|  Rsch Technologist I                 |    63 |      36,476.0 |  38,035.6825396825396825396825  |\n",
      "|  Ag Rsch Technician II               |    63 |      34,907.0 |  37,418.8412698412698412698413  |\n",
      "|  Residence Hall Custodian II         |    57 |      22,904.0 |  23,683.5789473684210526315790  |\n",
      "|  Administrator II                    |    56 |      78,338.0 |  79,012.0535714285714285714286  |\n",
      "|  Assistant Director                  |    53 |      55,917.0 |  58,754.8113207547169811320755  |\n",
      "|  Coordinator                         |    52 |      55,168.5 |  65,991.2115384615384615384615  |\n",
      "|  Dining Service Associate            |    50 |      22,360.0 |  22,662.2000000000000000000000  |\n",
      "|  Business Manager                    |    47 |      57,094.0 |  56,575.5744680851063829787234  |\n",
      "|  Assistant Professor of Practice     |    46 |      66,106.5 |  68,461.5869565217391304347826  |\n",
      "|  Researcher                          |    43 |      53,550.0 |  52,971.1395348837209302325581  |\n",
      "|  Extension Educator                  |    43 |      86,480.0 |  87,412.1395348837209302325581  |\n",
      "|  Research Associate                  |    43 |      43,051.0 |  44,880.7209302325581395348837  |\n",
      "|  Asst Exten Educator                 |    41 |      46,686.0 |  50,110.7560975609756097560976  |\n",
      "|  Campus Security Officer             |    41 |      29,329.0 |  29,578.2926829268292682926829  |\n",
      "|  Associate Director                  |    40 |      86,559.0 |  88,494.0500000000000000000000  |\n",
      "|  Staff Secy III                      |    40 |      31,467.5 |  31,389.1000000000000000000000  |\n",
      "|  Ag Rsch Technician I                |    39 |      27,534.0 |  29,592.3076923076923076923077  |\n",
      "|  Accounting Technician               |    38 |      36,804.5 |  37,680.7368421052631578947368  |\n",
      "|  Rsch Technologist II                |    38 |      42,201.5 |  42,368.8157894736842105263158  |\n",
      "|  Ag Rsch Technician III              |    38 |      40,916.5 |  41,310.5789473684210526315790  |\n",
      "|  Administrative Tech I               |    37 |      40,784.0 |  43,487.0540540540540540540540  |\n",
      "|  Administrator I                     |    37 |      65,006.0 |  64,119.7837837837837837837838  |\n",
      "|  Cler Asst III                       |    36 |      33,606.0 |  33,699.0555555555555555555556  |\n",
      "|  Child Development Program Evaluator |    36 |      49,944.0 |  48,720.9444444444444444444444  |\n",
      "|  Senior Research Associate           |    35 |      42,287.0 |  44,627.9142857142857142857143  |\n",
      "|  Manager                             |    34 |      67,650.0 |  65,426.2647058823529411764706  |\n",
      "|  Assoc Exten Educator                |    34 |      56,504.0 |  57,107.3529411764705882352941  |\n",
      "|  Dean                                |    33 |     233,437.0 | 236,385.3030303030303030303030  |\n",
      "|  Admin Support Assoc                 |    33 |      35,852.0 |  37,491.0606060606060606060606  |\n",
      "|  Exten Educator                      |    33 |      71,385.0 |  73,839.1212121212121212121212  |\n",
      "|  Nurse Practitioner, Specialist      |    33 |      91,832.0 |  90,496.0303030303030303030303  |\n",
      "|  ...                                 |   ... |           ... |                            ...  |\n",
      "|--------------------------------------+-------+---------------+---------------------------------|\n"
     ]
    }
   ],
   "source": [
    "sorted_jobs = jobs.order_by('count', reverse=True)\n",
    "sorted_jobs.print_table(max_rows=50)"
   ]
  },
  {
   "cell_type": "markdown",
   "metadata": {
    "collapsed": true
   },
   "source": [
    "Finally, print a table using those aggregates and sorting by count."
   ]
  },
  {
   "cell_type": "code",
   "execution_count": null,
   "metadata": {
    "collapsed": true
   },
   "outputs": [],
   "source": []
  }
 ],
 "metadata": {
  "kernelspec": {
   "display_name": "Python 3",
   "language": "python",
   "name": "python3"
  },
  "language_info": {
   "codemirror_mode": {
    "name": "ipython",
    "version": 3
   },
   "file_extension": ".py",
   "mimetype": "text/x-python",
   "name": "python",
   "nbconvert_exporter": "python",
   "pygments_lexer": "ipython3",
   "version": "3.5.2"
  }
 },
 "nbformat": 4,
 "nbformat_minor": 0
}
