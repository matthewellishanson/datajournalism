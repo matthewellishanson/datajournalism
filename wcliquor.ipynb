{
 "cells": [
  {
   "cell_type": "code",
   "execution_count": 1,
   "metadata": {
    "collapsed": true
   },
   "outputs": [],
   "source": [
    "import agate"
   ]
  },
  {
   "cell_type": "code",
   "execution_count": 2,
   "metadata": {
    "collapsed": true
   },
   "outputs": [],
   "source": [
    "wcliquor = agate.Table.from_csv('Downloads/wcliquortax.csv')"
   ]
  },
  {
   "cell_type": "code",
   "execution_count": null,
   "metadata": {
    "collapsed": true
   },
   "outputs": [],
   "source": []
  },
  {
   "cell_type": "raw",
   "metadata": {
    "collapsed": false
   },
   "source": [
    "wcliquor.print_table()"
   ]
  },
  {
   "cell_type": "code",
   "execution_count": 3,
   "metadata": {
    "collapsed": false
   },
   "outputs": [
    {
     "name": "stdout",
     "output_type": "stream",
     "text": [
      "|----------------------------+------------|\n",
      "|  column                    | data_type  |\n",
      "|----------------------------+------------|\n",
      "|  Year                      | Number     |\n",
      "|  Gallons Consumed          | Number     |\n",
      "|  State Excise Taxes        | Number     |\n",
      "|  Fed Excise Taxes          | Number     |\n",
      "|  Budweiser Gallons         | Number     |\n",
      "|  Pabst/Miller/Misc Gallons | Number     |\n",
      "|  Coors Gallons             | Number     |\n",
      "|  Jumping Eagle Cases       | Number     |\n",
      "|  D&S Pioneer Cases         | Number     |\n",
      "|  State Line Cases          | Number     |\n",
      "|  Arrowhead Cases           | Number     |\n",
      "|----------------------------+------------|\n",
      "\n"
     ]
    }
   ],
   "source": [
    "print(wcliquor)"
   ]
  },
  {
   "cell_type": "code",
   "execution_count": 4,
   "metadata": {
    "collapsed": true
   },
   "outputs": [],
   "source": [
    "for_consumption = wcliquor.select(['Year', 'Gallons Consumed', 'Budweiser Gallons', 'Pabst/Miller/Misc Gallons', 'Coors Gallons', 'Jumping Eagle Cases', 'D&S Pioneer Cases', 'State Line Cases', 'Arrowhead Cases'])"
   ]
  },
  {
   "cell_type": "code",
   "execution_count": 5,
   "metadata": {
    "collapsed": false
   },
   "outputs": [
    {
     "name": "stdout",
     "output_type": "stream",
     "text": [
      "|----------------------------+------------|\n",
      "|  column                    | data_type  |\n",
      "|----------------------------+------------|\n",
      "|  Year                      | Number     |\n",
      "|  Gallons Consumed          | Number     |\n",
      "|  Budweiser Gallons         | Number     |\n",
      "|  Pabst/Miller/Misc Gallons | Number     |\n",
      "|  Coors Gallons             | Number     |\n",
      "|  Jumping Eagle Cases       | Number     |\n",
      "|  D&S Pioneer Cases         | Number     |\n",
      "|  State Line Cases          | Number     |\n",
      "|  Arrowhead Cases           | Number     |\n",
      "|----------------------------+------------|\n",
      "\n"
     ]
    }
   ],
   "source": [
    "print(for_consumption)"
   ]
  },
  {
   "cell_type": "code",
   "execution_count": 6,
   "metadata": {
    "collapsed": false
   },
   "outputs": [
    {
     "name": "stdout",
     "output_type": "stream",
     "text": [
      "|--------+------------------+-------------------+----------------------+---------------+---------------------+------|\n",
      "|   Year | Gallons Consumed | Budweiser Gallons | Pabst/Miller/Misc... | Coors Gallons | Jumping Eagle Cases | ...  |\n",
      "|--------+------------------+-------------------+----------------------+---------------+---------------------+------|\n",
      "|  2,010 |          465,092 |           349,712 |               89,818 |        25,562 |              38,163 | ...  |\n",
      "|  2,011 |          403,118 |           316,811 |               69,086 |        17,221 |              26,356 | ...  |\n",
      "|  2,012 |          364,799 |           270,108 |               64,819 |        29,872 |              25,028 | ...  |\n",
      "|  2,013 |          336,217 |           237,269 |               64,668 |        34,280 |              23,366 | ...  |\n",
      "|  2,014 |          367,142 |           251,567 |               92,762 |        22,813 |              24,127 | ...  |\n",
      "|  2,015 |          331,416 |           226,391 |               84,625 |        20,400 |              20,897 | ...  |\n",
      "|--------+------------------+-------------------+----------------------+---------------+---------------------+------|\n"
     ]
    }
   ],
   "source": [
    "for_consumption.print_table()"
   ]
  },
  {
   "cell_type": "code",
   "execution_count": 7,
   "metadata": {
    "collapsed": false
   },
   "outputs": [],
   "source": [
    "for_consumption.to_csv(\"consumption.csv\")"
   ]
  },
  {
   "cell_type": "code",
   "execution_count": 8,
   "metadata": {
    "collapsed": false
   },
   "outputs": [],
   "source": [
    "for_consumption_2 = agate.Table.from_csv(\"Downloads/consumption2.csv\")"
   ]
  },
  {
   "cell_type": "code",
   "execution_count": 9,
   "metadata": {
    "collapsed": false
   },
   "outputs": [
    {
     "name": "stdout",
     "output_type": "stream",
     "text": [
      "|-----------------------+---------+---------+---------+---------+---------+----------|\n",
      "|  Year                 |    2010 |    2011 |    2012 |    2013 |    2014 |    2015  |\n",
      "|-----------------------+---------+---------+---------+---------+---------+----------|\n",
      "|  Gallons Consumed     | 465,092 | 403,118 | 364,799 | 336,217 | 367,142 | 331,416  |\n",
      "|  Budweiser Gallons    | 349,712 | 316,811 | 270,108 | 237,269 | 251,567 | 226,391  |\n",
      "|  Pabst/Miller/Misc... |  89,818 |  69,086 |  64,819 |  64,668 |  92,762 |  84,625  |\n",
      "|  Coors Gallons        |  25,562 |  17,221 |  29,872 |  34,280 |  22,813 |  20,400  |\n",
      "|  Jumping Eagle Cases  |  38,163 |  26,356 |  25,028 |  23,366 |  24,127 |  20,897  |\n",
      "|  D&S Pioneer Cases    |  48,025 |  44,099 |  40,853 |  39,305 |  41,311 |  33,667  |\n",
      "|  State Line Cases     |  47,471 |  41,852 |  40,409 |  37,301 |  40,499 |  37,222  |\n",
      "|  Arrowhead Cases      |  73,045 |  66,857 |  55,863 |  49,456 |  57,236 |  55,508  |\n",
      "|-----------------------+---------+---------+---------+---------+---------+----------|\n"
     ]
    }
   ],
   "source": [
    "for_consumption_2.print_table(max_columns=7)"
   ]
  },
  {
   "cell_type": "code",
   "execution_count": 10,
   "metadata": {
    "collapsed": true
   },
   "outputs": [],
   "source": [
    "for_taxes = wcliquor.select(['Year', 'Gallons Consumed', 'State Excise Taxes', 'Fed Excise Taxes'])"
   ]
  },
  {
   "cell_type": "code",
   "execution_count": 11,
   "metadata": {
    "collapsed": false
   },
   "outputs": [
    {
     "name": "stdout",
     "output_type": "stream",
     "text": [
      "|--------+------------------+--------------------+-------------------|\n",
      "|   Year | Gallons Consumed | State Excise Taxes | Fed Excise Taxes  |\n",
      "|--------+------------------+--------------------+-------------------|\n",
      "|  2,010 |          465,092 |            144,179 |          269,753  |\n",
      "|  2,011 |          403,118 |            124,967 |          233,808  |\n",
      "|  2,012 |          364,799 |            113,088 |          211,584  |\n",
      "|  2,013 |          336,217 |            104,227 |          195,006  |\n",
      "|  2,014 |          367,142 |            113,814 |          212,942  |\n",
      "|  2,015 |          331,416 |            102,739 |          192,221  |\n",
      "|--------+------------------+--------------------+-------------------|\n"
     ]
    }
   ],
   "source": [
    "for_taxes.print_table()"
   ]
  },
  {
   "cell_type": "code",
   "execution_count": 12,
   "metadata": {
    "collapsed": true
   },
   "outputs": [],
   "source": [
    "for_taxes.to_csv(\"liqtax.csv\")"
   ]
  },
  {
   "cell_type": "code",
   "execution_count": 13,
   "metadata": {
    "collapsed": true
   },
   "outputs": [],
   "source": [
    "for_taxes_2 = agate.Table.from_csv('Downloads/liqtax2.csv')"
   ]
  },
  {
   "cell_type": "code",
   "execution_count": 14,
   "metadata": {
    "collapsed": false,
    "scrolled": true
   },
   "outputs": [
    {
     "name": "stdout",
     "output_type": "stream",
     "text": [
      "|---------------------+---------+---------+---------+---------+---------+----------|\n",
      "|  Year               |    2010 |    2011 |    2012 |    2013 |    2014 |    2015  |\n",
      "|---------------------+---------+---------+---------+---------+---------+----------|\n",
      "|  Gallons Consumed   | 465,092 | 403,118 | 364,799 | 336,217 | 367,142 | 331,416  |\n",
      "|  State Excise Taxes | 144,179 | 124,967 | 113,088 | 104,227 | 113,814 | 102,739  |\n",
      "|  Fed Excise Taxes   | 269,753 | 233,808 | 211,584 | 195,006 | 212,942 | 192,221  |\n",
      "|---------------------+---------+---------+---------+---------+---------+----------|\n"
     ]
    }
   ],
   "source": [
    "for_taxes_2.print_table(max_columns=8)"
   ]
  },
  {
   "cell_type": "code",
   "execution_count": 15,
   "metadata": {
    "collapsed": false
   },
   "outputs": [],
   "source": [
    "state_tax = agate.Table.from_csv('Downloads/stateliqtax.csv')"
   ]
  },
  {
   "cell_type": "code",
   "execution_count": 16,
   "metadata": {
    "collapsed": false,
    "scrolled": true
   },
   "outputs": [
    {
     "name": "stdout",
     "output_type": "stream",
     "text": [
      "|--------+--------------+---------------+-----------------+--------------+----------------------+----------------------+----------------------+----------------------+----------------------+----------------------+----------------------+----------------------+----------------------+----------------------+----------------------+----------------------+-------------------+--------------------+----------------------+------|\n",
      "|   YEAR | BEER GALLONS |  BEER REVENUE | SPIRITS GALLONS | WINE GALLONS | SPIRITS/WINE REVENUE | ARROWHEAD GERING ... | ARROWHEAD GERING ... | DIETRICH BEER GAL... | DIETRICH NET BEER... | PIVO BUDWEISER BE... | PIVO BUDWEISER NE... | ARROWHEAD IN WC G... | DIETRICH IN WC GA... | PIVO IN WC GALLONAGE | ARROWHEAD IN WC N... | DIETRICH IN WC NE... | PIVO IN WC NE TAX | WC TOTAL GALLONAGE | WC NE STATE LIQUO... | ...  |\n",
      "|--------+--------------+---------------+-----------------+--------------+----------------------+----------------------+----------------------+----------------------+----------------------+----------------------+----------------------+----------------------+----------------------+----------------------+----------------------+----------------------+-------------------+--------------------+----------------------+------|\n",
      "|  2,015 |   46,078,660 | 14,139,448.85 |       3,425,005 |    3,424,965 |        15,939,625.32 |          23,043.5300 |                7,072 |          34,905.8151 |               10,713 |         109,308.0544 |               33,547 |               20,400 |               84,625 |              226,391 |             6,324.00 |            26,233.75 |         70,181.21 |            331,416 |              102,739 | ...  |\n",
      "|  2,014 |   45,771,480 | 14,047,660.08 |       3,306,332 |    3,477,816 |        15,546,059.79 |          31,446.6474 |                9,651 |          37,606.8049 |               11,542 |         136,208.8301 |               41,802 |               22,813 |               92,762 |              251,567 |             7,072.03 |            28,756.22 |         77,985.77 |            367,142 |              113,814 | ...  |\n",
      "|  2,013 |   45,744,823 | 14,045,296.91 |       3,229,681 |    3,315,766 |        15,108,883.05 |          27,316.4126 |                8,383 |          38,055.3831 |               11,679 |         105,944.6016 |               32,514 |               34,280 |               64,668 |              237,269 |            10,626.80 |            20,047.08 |         73,553.39 |            336,217 |              104,227 | ...  |\n",
      "|  2,012 |   45,848,272 | 14,044,957.80 |       3,146,834 |    3,191,253 |        14,684,820.11 |          39,285.9312 |               12,057 |          35,681.8877 |               10,951 |         121,613.5877 |               37,323 |               29,872 |               64,819 |              270,108 |             9,260.32 |            20,093.89 |         83,733.48 |            364,799 |              113,088 | ...  |\n",
      "|  2,011 |   44,849,482 | 13,956,660.33 |       3,015,596 |    3,082,214 |        14,113,188.38 |          26,039.8235 |                7,992 |          38,515.8143 |               11,821 |         137,663.2196 |               42,249 |               17,221 |               69,086 |              316,811 |             5,338.51 |            21,416.66 |         98,211.41 |            403,118 |              124,967 | ...  |\n",
      "|--------+--------------+---------------+-----------------+--------------+----------------------+----------------------+----------------------+----------------------+----------------------+----------------------+----------------------+----------------------+----------------------+----------------------+----------------------+----------------------+-------------------+--------------------+----------------------+------|\n"
     ]
    }
   ],
   "source": [
    "state_tax.print_table(max_columns=20)"
   ]
  },
  {
   "cell_type": "code",
   "execution_count": 17,
   "metadata": {
    "collapsed": true
   },
   "outputs": [],
   "source": [
    "import pandas as pd\n",
    "from ggplot import *\n",
    "%matplotlib inline"
   ]
  },
  {
   "cell_type": "code",
   "execution_count": 18,
   "metadata": {
    "collapsed": false
   },
   "outputs": [],
   "source": [
    "df = pd.read_csv('Downloads/stateliqtax.csv')"
   ]
  },
  {
   "cell_type": "code",
   "execution_count": 19,
   "metadata": {
    "collapsed": false
   },
   "outputs": [
    {
     "data": {
      "text/html": [
       "<div>\n",
       "<table border=\"1\" class=\"dataframe\">\n",
       "  <thead>\n",
       "    <tr style=\"text-align: right;\">\n",
       "      <th></th>\n",
       "      <th>YEAR</th>\n",
       "      <th>BEER GALLONS</th>\n",
       "      <th>BEER REVENUE</th>\n",
       "      <th>SPIRITS GALLONS</th>\n",
       "      <th>WINE GALLONS</th>\n",
       "      <th>SPIRITS/WINE REVENUE</th>\n",
       "      <th>ARROWHEAD GERING BEER GALLONAGE</th>\n",
       "      <th>ARROWHEAD GERING NET BEER TAX</th>\n",
       "      <th>DIETRICH BEER GALLONAGE</th>\n",
       "      <th>DIETRICH NET BEER TAX</th>\n",
       "      <th>...</th>\n",
       "      <th>PIVO BUDWEISER NET BEER TAX</th>\n",
       "      <th>ARROWHEAD IN WC GALLONAGE</th>\n",
       "      <th>DIETRICH IN WC GALLONAGE</th>\n",
       "      <th>PIVO IN WC GALLONAGE</th>\n",
       "      <th>ARROWHEAD IN WC NE TAX</th>\n",
       "      <th>DIETRICH IN WC NE TAX</th>\n",
       "      <th>PIVO IN WC NE TAX</th>\n",
       "      <th>WC TOTAL GALLONAGE</th>\n",
       "      <th>WC NE STATE LIQUOR TAX</th>\n",
       "      <th>SD MISSED EXCISE BEER TAX</th>\n",
       "    </tr>\n",
       "  </thead>\n",
       "  <tbody>\n",
       "    <tr>\n",
       "      <th>0</th>\n",
       "      <td>2015</td>\n",
       "      <td>46,078,660</td>\n",
       "      <td>$14,139,448.85</td>\n",
       "      <td>3,425,005</td>\n",
       "      <td>3,424,965</td>\n",
       "      <td>$15,939,625.32</td>\n",
       "      <td>23043.5300</td>\n",
       "      <td>$7,072.00</td>\n",
       "      <td>34905.8151</td>\n",
       "      <td>$10,713.00</td>\n",
       "      <td>...</td>\n",
       "      <td>$33,547.00</td>\n",
       "      <td>20400</td>\n",
       "      <td>84625</td>\n",
       "      <td>226391</td>\n",
       "      <td>$6,324.00</td>\n",
       "      <td>$26,233.75</td>\n",
       "      <td>$70,181.21</td>\n",
       "      <td>331416</td>\n",
       "      <td>$102,739.00</td>\n",
       "      <td>$89,482.32</td>\n",
       "    </tr>\n",
       "    <tr>\n",
       "      <th>1</th>\n",
       "      <td>2014</td>\n",
       "      <td>45,771,480</td>\n",
       "      <td>$14,047,660.08</td>\n",
       "      <td>3,306,332</td>\n",
       "      <td>3,477,816</td>\n",
       "      <td>$15,546,059.79</td>\n",
       "      <td>31446.6474</td>\n",
       "      <td>$9,651.00</td>\n",
       "      <td>37606.8049</td>\n",
       "      <td>$11,542.00</td>\n",
       "      <td>...</td>\n",
       "      <td>$41,802.00</td>\n",
       "      <td>22813</td>\n",
       "      <td>92762</td>\n",
       "      <td>251567</td>\n",
       "      <td>$7,072.03</td>\n",
       "      <td>$28,756.22</td>\n",
       "      <td>$77,985.77</td>\n",
       "      <td>367142</td>\n",
       "      <td>$113,814.00</td>\n",
       "      <td>$99,128.34</td>\n",
       "    </tr>\n",
       "    <tr>\n",
       "      <th>2</th>\n",
       "      <td>2013</td>\n",
       "      <td>45,744,823</td>\n",
       "      <td>$14,045,296.91</td>\n",
       "      <td>3,229,681</td>\n",
       "      <td>3,315,766</td>\n",
       "      <td>$15,108,883.05</td>\n",
       "      <td>27316.4126</td>\n",
       "      <td>$8,383.00</td>\n",
       "      <td>38055.3831</td>\n",
       "      <td>$11,679.00</td>\n",
       "      <td>...</td>\n",
       "      <td>$32,514.00</td>\n",
       "      <td>34280</td>\n",
       "      <td>64668</td>\n",
       "      <td>237269</td>\n",
       "      <td>$10,626.80</td>\n",
       "      <td>$20,047.08</td>\n",
       "      <td>$73,553.39</td>\n",
       "      <td>336217</td>\n",
       "      <td>$104,227.00</td>\n",
       "      <td>$90,778.59</td>\n",
       "    </tr>\n",
       "    <tr>\n",
       "      <th>3</th>\n",
       "      <td>2012</td>\n",
       "      <td>45,848,272</td>\n",
       "      <td>$14,044,957.80</td>\n",
       "      <td>3,146,834</td>\n",
       "      <td>3,191,253</td>\n",
       "      <td>$14,684,820.11</td>\n",
       "      <td>39285.9312</td>\n",
       "      <td>$12,057.00</td>\n",
       "      <td>35681.8877</td>\n",
       "      <td>$10,951.00</td>\n",
       "      <td>...</td>\n",
       "      <td>$37,323.00</td>\n",
       "      <td>29872</td>\n",
       "      <td>64819</td>\n",
       "      <td>270108</td>\n",
       "      <td>$9,260.32</td>\n",
       "      <td>$20,093.89</td>\n",
       "      <td>$83,733.48</td>\n",
       "      <td>364799</td>\n",
       "      <td>$113,088.00</td>\n",
       "      <td>$98,495.73</td>\n",
       "    </tr>\n",
       "    <tr>\n",
       "      <th>4</th>\n",
       "      <td>2011</td>\n",
       "      <td>44,849,482</td>\n",
       "      <td>$13,956,660.33</td>\n",
       "      <td>3,015,596</td>\n",
       "      <td>3,082,214</td>\n",
       "      <td>$14,113,188.38</td>\n",
       "      <td>26039.8235</td>\n",
       "      <td>$7,992.00</td>\n",
       "      <td>38515.8143</td>\n",
       "      <td>$11,821.00</td>\n",
       "      <td>...</td>\n",
       "      <td>$42,249.00</td>\n",
       "      <td>17221</td>\n",
       "      <td>69086</td>\n",
       "      <td>316811</td>\n",
       "      <td>$5,338.51</td>\n",
       "      <td>$21,416.66</td>\n",
       "      <td>$98,211.41</td>\n",
       "      <td>403118</td>\n",
       "      <td>$124,967.00</td>\n",
       "      <td>$108,841.86</td>\n",
       "    </tr>\n",
       "  </tbody>\n",
       "</table>\n",
       "<p>5 rows × 21 columns</p>\n",
       "</div>"
      ],
      "text/plain": [
       "   YEAR BEER GALLONS    BEER REVENUE SPIRITS GALLONS WINE GALLONS  \\\n",
       "0  2015   46,078,660  $14,139,448.85       3,425,005    3,424,965   \n",
       "1  2014   45,771,480  $14,047,660.08       3,306,332    3,477,816   \n",
       "2  2013   45,744,823  $14,045,296.91       3,229,681    3,315,766   \n",
       "3  2012   45,848,272  $14,044,957.80       3,146,834    3,191,253   \n",
       "4  2011   44,849,482  $13,956,660.33       3,015,596    3,082,214   \n",
       "\n",
       "  SPIRITS/WINE REVENUE  ARROWHEAD GERING BEER GALLONAGE  \\\n",
       "0       $15,939,625.32                       23043.5300   \n",
       "1       $15,546,059.79                       31446.6474   \n",
       "2       $15,108,883.05                       27316.4126   \n",
       "3       $14,684,820.11                       39285.9312   \n",
       "4       $14,113,188.38                       26039.8235   \n",
       "\n",
       "  ARROWHEAD GERING NET BEER TAX  DIETRICH BEER GALLONAGE  \\\n",
       "0                     $7,072.00               34905.8151   \n",
       "1                     $9,651.00               37606.8049   \n",
       "2                     $8,383.00               38055.3831   \n",
       "3                    $12,057.00               35681.8877   \n",
       "4                     $7,992.00               38515.8143   \n",
       "\n",
       "  DIETRICH NET BEER TAX            ...             \\\n",
       "0            $10,713.00            ...              \n",
       "1            $11,542.00            ...              \n",
       "2            $11,679.00            ...              \n",
       "3            $10,951.00            ...              \n",
       "4            $11,821.00            ...              \n",
       "\n",
       "   PIVO BUDWEISER NET BEER TAX ARROWHEAD IN WC GALLONAGE  \\\n",
       "0                   $33,547.00                     20400   \n",
       "1                   $41,802.00                     22813   \n",
       "2                   $32,514.00                     34280   \n",
       "3                   $37,323.00                     29872   \n",
       "4                   $42,249.00                     17221   \n",
       "\n",
       "   DIETRICH IN WC GALLONAGE  PIVO IN WC GALLONAGE  ARROWHEAD IN WC NE TAX  \\\n",
       "0                     84625                226391               $6,324.00   \n",
       "1                     92762                251567               $7,072.03   \n",
       "2                     64668                237269              $10,626.80   \n",
       "3                     64819                270108               $9,260.32   \n",
       "4                     69086                316811               $5,338.51   \n",
       "\n",
       "  DIETRICH IN WC NE TAX PIVO IN WC NE TAX WC TOTAL GALLONAGE  \\\n",
       "0            $26,233.75        $70,181.21             331416   \n",
       "1            $28,756.22        $77,985.77             367142   \n",
       "2            $20,047.08        $73,553.39             336217   \n",
       "3            $20,093.89        $83,733.48             364799   \n",
       "4            $21,416.66        $98,211.41             403118   \n",
       "\n",
       "   WC NE STATE LIQUOR TAX SD MISSED EXCISE BEER TAX  \n",
       "0             $102,739.00                $89,482.32  \n",
       "1             $113,814.00                $99,128.34  \n",
       "2             $104,227.00                $90,778.59  \n",
       "3             $113,088.00                $98,495.73  \n",
       "4             $124,967.00               $108,841.86  \n",
       "\n",
       "[5 rows x 21 columns]"
      ]
     },
     "execution_count": 19,
     "metadata": {},
     "output_type": "execute_result"
    }
   ],
   "source": [
    "df.head()"
   ]
  },
  {
   "cell_type": "code",
   "execution_count": null,
   "metadata": {
    "collapsed": true
   },
   "outputs": [],
   "source": []
  }
 ],
 "metadata": {
  "kernelspec": {
   "display_name": "Python 3",
   "language": "python",
   "name": "python3"
  },
  "language_info": {
   "codemirror_mode": {
    "name": "ipython",
    "version": 3
   },
   "file_extension": ".py",
   "mimetype": "text/x-python",
   "name": "python",
   "nbconvert_exporter": "python",
   "pygments_lexer": "ipython3",
   "version": "3.5.2"
  }
 },
 "nbformat": 4,
 "nbformat_minor": 1
}
